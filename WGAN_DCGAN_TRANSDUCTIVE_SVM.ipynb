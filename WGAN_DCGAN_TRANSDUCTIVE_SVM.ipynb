{
  "nbformat": 4,
  "nbformat_minor": 0,
  "metadata": {
    "colab": {
      "name": "WGAN DCGAN TRANSDUCTIVE SVM.ipynb",
      "version": "0.3.2",
      "provenance": [],
      "collapsed_sections": []
    },
    "kernelspec": {
      "name": "python3",
      "display_name": "Python 3"
    },
    "accelerator": "GPU"
  },
  "cells": [
    {
      "metadata": {
        "id": "iKabKqHqmEbS",
        "colab_type": "text"
      },
      "cell_type": "markdown",
      "source": [
        "# Deep Learning "
      ]
    },
    {
      "metadata": {
        "id": "OQ3sCQZLmMzB",
        "colab_type": "text"
      },
      "cell_type": "markdown",
      "source": [
        "### Import Packages"
      ]
    },
    {
      "metadata": {
        "id": "-nq9wIEdmJdz",
        "colab_type": "code",
        "colab": {}
      },
      "cell_type": "code",
      "source": [
        "from keras.engine.topology import Layer\n",
        "from keras.models import Sequential, Model\n",
        "from keras.layers import Lambda, Input, Dense, Multiply, Add, Reshape, Flatten, Dropout, Activation, BatchNormalization, regularizers, Conv2D, MaxPooling2D\n",
        "from keras.losses import mse, binary_crossentropy\n",
        "from keras.layers.convolutional import Convolution2D, Conv2DTranspose, UpSampling2D\n",
        "from keras.layers.normalization import BatchNormalization\n",
        "from keras.layers.advanced_activations import LeakyReLU\n",
        "from keras.callbacks import ModelCheckpoint, EarlyStopping\n",
        "from keras.optimizers import Adam\n",
        "from keras.utils.np_utils import to_categorical\n",
        "from keras.utils import np_utils\n",
        "from keras import backend as K\n",
        "import matplotlib.pyplot as plt\n",
        "from keras.datasets import fashion_mnist\n",
        "from keras.layers.merge import _Merge\n",
        "import os, time\n",
        "import numpy as np\n",
        "import tensorflow as tf\n",
        "import pandas as pd\n",
        "from functools import partial\n",
        "import pickle\n",
        "from sklearn import svm\n",
        "from sklearn.model_selection import cross_val_score\n",
        "from google.colab import files\n",
        "from PIL import Image\n",
        "from matplotlib.pyplot import imshow\n",
        "from keras.models import load_model\n",
        "%matplotlib inline"
      ],
      "execution_count": 0,
      "outputs": []
    },
    {
      "metadata": {
        "id": "-ba8khrXY2Bf",
        "colab_type": "text"
      },
      "cell_type": "markdown",
      "source": [
        "###Program Parameters"
      ]
    },
    {
      "metadata": {
        "id": "majaOQWMYz4v",
        "colab_type": "code",
        "colab": {}
      },
      "cell_type": "code",
      "source": [
        "# seed \n",
        "np.random.seed(2018)\n",
        "tf.set_random_seed(2018)\n",
        "# save data to drive\n",
        "SAVE_RESULTS_TO_DRIVE = True\n",
        "FOLDER_ID = 'xxxxx'\n",
        "# ignore warnings\n",
        "import warnings\n",
        "warnings.filterwarnings('ignore')"
      ],
      "execution_count": 0,
      "outputs": []
    },
    {
      "metadata": {
        "id": "5mWYE1MDMf5O",
        "colab_type": "text"
      },
      "cell_type": "markdown",
      "source": [
        "### Fashion Mnist Data Preprocessing"
      ]
    },
    {
      "metadata": {
        "id": "JN3EAUNB6jxR",
        "colab_type": "code",
        "colab": {}
      },
      "cell_type": "code",
      "source": [
        "def FM_pre_prossecing(is_vae=True):\n",
        "  \n",
        "  # download and get the data set\n",
        "  (x_train, y_train), (x_test, y_test) = fashion_mnist.load_data()\n",
        "  if is_vae:\n",
        "    K.set_image_data_format('channels_first')\n",
        "    # image dimention\n",
        "    original_dim = 28*28\n",
        "    # reshape for the VAE\n",
        "    x_train = x_train.reshape(-1, original_dim) / 255.\n",
        "    x_test = x_test.reshape(-1, original_dim) / 255.\n",
        "    # categorical the y's\n",
        "#     y_train = np_utils.to_categorical(y_train, 10)\n",
        "#     y_test = np_utils.to_categorical(y_train, 10)\n",
        "  else:\n",
        "    K.set_image_data_format('channels_last')\n",
        "    # concatenate\n",
        "    X_train = np.concatenate((x_train, x_test), axis=0)\n",
        "    # reshape\n",
        "    X_train = X_train.reshape((X_train.shape[0], X_train.shape[1], X_train.shape[2], 1))\n",
        "    x_train = (X_train.astype(np.float32) - 127.5) / 127.5\n",
        "\n",
        "  return (x_train, y_train), (x_test, y_test)"
      ],
      "execution_count": 0,
      "outputs": []
    },
    {
      "metadata": {
        "id": "BeK4rnYl5Htj",
        "colab_type": "text"
      },
      "cell_type": "markdown",
      "source": [
        "###Sample Data Evenly for SVM"
      ]
    },
    {
      "metadata": {
        "id": "kNDDsVgC5X9X",
        "colab_type": "code",
        "colab": {}
      },
      "cell_type": "code",
      "source": [
        "def balanced_subsample(x_data, y_data, subsample_size_per_label=100, is_random=False):\n",
        "  \n",
        "  # shuffle in random state\n",
        "  if is_random:\n",
        "    np.random.shuffle(x_data), np.random.shuffle(y_data)\n",
        "    \n",
        "  # return values\n",
        "  return_x, return_y = [], []\n",
        "  \n",
        "  dict_of_index =  {\"0\":[], \"1\":[], \"2\":[], \"3\":[], \"4\":[], \"5\":[], \"6\":[], \"7\":[], \"8\":[], \"9\":[]}\n",
        "  # try to add to the dict_of_index an element\n",
        "  for index, (xs, ys) in enumerate(zip(x_data, y_data)):\n",
        "    # extract y\n",
        "#     y_tag = [index for index, val in enumerate(ys) if val == 1][0]+1\n",
        "    # add new element\n",
        "#     if len(dict_of_index[str(y_tag)]) < subsample_size_per_label:\n",
        "    if len(dict_of_index[str(ys)]) < subsample_size_per_label:\n",
        "      # add index\n",
        "      dict_of_index[str(ys)].append(index)\n",
        "      \n",
        "  # return data\n",
        "  for key, value in dict_of_index.items():\n",
        "    for index in value:\n",
        "      #add x data\n",
        "      return_x.append(x_data[index])\n",
        "      # add y data\n",
        "      return_y.append(y_data[index])\n",
        "  \n",
        "  return np.array(return_x), np.array(return_y)"
      ],
      "execution_count": 0,
      "outputs": []
    },
    {
      "metadata": {
        "id": "h9wJlCEDD3wa",
        "colab_type": "text"
      },
      "cell_type": "markdown",
      "source": [
        "###Drive REST API"
      ]
    },
    {
      "metadata": {
        "id": "g4u7EIecD9LP",
        "colab_type": "code",
        "colab": {}
      },
      "cell_type": "code",
      "source": [
        "def set_drive_api():\n",
        "  # connect to drive\n",
        "  !pip install -U -q PyDrive\n",
        "  from pydrive.auth import GoogleAuth\n",
        "  from pydrive.drive import GoogleDrive\n",
        "  from google.colab import auth\n",
        "  from oauth2client.client import GoogleCredentials\n",
        "  from google.colab import files\n",
        "\n",
        "  # 1. Authenticate and create the PyDrive client.\n",
        "  auth.authenticate_user()\n",
        "  gauth = GoogleAuth()\n",
        "  gauth.credentials = GoogleCredentials.get_application_default()\n",
        "  drive = GoogleDrive(gauth)\n",
        "  return drive\n",
        "\n",
        "  # PyDrive reference:\n",
        "  # https://gsuitedevs.github.io/PyDrive/docs/build/html/index.html\n",
        "  \n",
        "drive = set_drive_api()"
      ],
      "execution_count": 0,
      "outputs": []
    },
    {
      "metadata": {
        "id": "1r-g-JiQA-tO",
        "colab_type": "text"
      },
      "cell_type": "markdown",
      "source": [
        "### Save Model & Results to Google Drive"
      ]
    },
    {
      "metadata": {
        "id": "Ouq4wyHZBKhi",
        "colab_type": "code",
        "colab": {}
      },
      "cell_type": "code",
      "source": [
        "def save_model_wigths_to_drive(my_model, saved_file_name):\n",
        "  # save weight locally on colab\n",
        "  my_model.save_weights(saved_file_name)\n",
        "  try:\n",
        "    # try to connect to drive\n",
        "    set_drive_api()\n",
        "    # save to drive\n",
        "    save(full_model_name)\n",
        "  except:\n",
        "    print(\"can't save exsiting model wigths to drive\")\n",
        "  \n",
        "def save(file_name):\n",
        "  # 2. Create & upload a file json file to drive\n",
        "  uploaded = drive.CreateFile({'title': file_name, \"parents\": [{\"kind\": \"drive#fileLink\",\"id\": FOLDER_ID}]})\n",
        "  uploaded.SetContentFile(file_name)\n",
        "  uploaded.Upload()\n",
        "  print('Uploaded file with ID {}'.format(uploaded.get('id')))"
      ],
      "execution_count": 0,
      "outputs": []
    },
    {
      "metadata": {
        "id": "j1LTELAMBsfr",
        "colab_type": "text"
      },
      "cell_type": "markdown",
      "source": [
        "###Upload Saved Results"
      ]
    },
    {
      "metadata": {
        "id": "pV_-QrQ9B0QK",
        "colab_type": "code",
        "colab": {}
      },
      "cell_type": "code",
      "source": [
        "def load_model_wigths_by_file_name(my_model, file_name, from_local_pc=False):\n",
        "  if not from_local_pc:\n",
        "    try:\n",
        "      # try to connect to drive\n",
        "      set_drive_api()\n",
        "      # try to download the file\n",
        "      restord_model_wigths_file_name = dowanload_file_drive_by_file_name(file_name)\n",
        "      # load the wigths\n",
        "      my_model.load_weights(restord_model_wigths_file_name)\n",
        "    except: \n",
        "      print(\"can't load exsiting model weights\")\n",
        "  else:\n",
        "    # remove  exsixting copies\n",
        "    try:\n",
        "      os.remove(file_name)\n",
        "    except: pass\n",
        "    # upload wights files from local file system\n",
        "    uploadedFiles = files.upload()\n",
        "    try:\n",
        "      my_model.load_weights(file_name)\n",
        "    except:\n",
        "      print(\"can't load exsiting model wigths\")\n",
        "  return my_model\n",
        "      \n",
        "def dowanload_file_drive_by_file_name(file_name):\n",
        "  # choose a local (colab) directory to store the data.\n",
        "  local_download_path = os.path.expanduser('~/data')\n",
        "  try:\n",
        "    os.makedirs(local_download_path)\n",
        "  except: pass\n",
        "  \n",
        "  # try to remove last file with the same name\n",
        "  try:\n",
        "    os.remove('/root/data/{}'.format(file_name))\n",
        "  except: pass\n",
        "  \n",
        "  file_list = drive.ListFile({'q': \"'\"+FOLDER_ID+\"' in parents\"}).GetList()\n",
        "  \n",
        "  for f in file_list:\n",
        "    # 3. Create & download by id.\n",
        "    if f['title'] == file_name:\n",
        "      print('title: %s, id: %s' % (f['title'], f['id']))\n",
        "      fname = os.path.join(local_download_path, f['title'])\n",
        "      print('downloading to {}'.format(fname))\n",
        "      f_ = drive.CreateFile({'id': f['id']})\n",
        "      f_.GetContentFile(fname)\n",
        "      return fname"
      ],
      "execution_count": 0,
      "outputs": []
    },
    {
      "metadata": {
        "id": "mrDCu5eW_Xfb",
        "colab_type": "text"
      },
      "cell_type": "markdown",
      "source": [
        "###Variational AutoEncoder"
      ]
    },
    {
      "metadata": {
        "id": "y8d2prWf_lFs",
        "colab_type": "code",
        "colab": {}
      },
      "cell_type": "code",
      "source": [
        "# adding Layer for KL Divergence\n",
        "class KLDivergenceLayer(Layer):\n",
        "\n",
        "    \"\"\" Identity transform layer that adds KL divergence to the final model loss.\"\"\"\n",
        "\n",
        "    def __init__(self, *args, **kwargs):\n",
        "        self.is_placeholder = True\n",
        "        super(KLDivergenceLayer, self).__init__(*args, **kwargs)\n",
        "\n",
        "    def call(self, inputs):\n",
        "\n",
        "        mu, log_var = inputs\n",
        "\n",
        "        kl_batch = - .5 * K.sum(1 + log_var -K.square(mu) -K.exp(log_var), axis=-1)\n",
        "\n",
        "        self.add_loss(K.mean(kl_batch), inputs=inputs)\n",
        "\n",
        "        return inputs\n",
        "\n",
        "\n",
        "# VAE model\n",
        "class VAEModel:\n",
        "  \n",
        "  def __init__(self, original_dim = 784, intermediate_dim = 600, latent_dim = 50):\n",
        "    self.original_dim = original_dim\n",
        "    self.intermediate_dim = intermediate_dim\n",
        "    self.latent_dim = latent_dim\n",
        "    \n",
        "    # -- encoder --\n",
        "    x = Input((self.original_dim,))\n",
        "#     h_1 = Dense(self.intermediate_dim, activation='softplus')(x)\n",
        "    h_2 = Dense(self.intermediate_dim, activation='softplus')(x)\n",
        "   \n",
        "    # get mean and variance\n",
        "    z_mu = Dense(self.latent_dim)(h_2)\n",
        "    z_log_var = Dense(self.latent_dim)(h_2)\n",
        "    \n",
        "    # feeding the paramters to the new Layer\n",
        "    z_mu, z_log_var = KLDivergenceLayer()([z_mu, z_log_var])\n",
        "    z_sigma = Lambda(lambda t: K.exp(.5*t))(z_log_var)\n",
        "\n",
        "    # add the sampling to the model\n",
        "    eps = Input(tensor=K.random_normal(shape=(K.shape(x)[0], self.latent_dim)))\n",
        "    \n",
        "    # transformation to get z\n",
        "    z_eps = Multiply()([z_sigma, eps])\n",
        "    z = Add()([z_mu, z_eps])\n",
        "    \n",
        "    self.encoder = Model(x, z_mu)\n",
        "    \n",
        "    # -- decoder --\n",
        "    self.decoder = Sequential([\n",
        "    Dense(self.intermediate_dim, input_dim=self.latent_dim, activation='softplus'),\n",
        "#     Dense(self.intermediate_dim, activation='softplus'),\n",
        "    Dense(self.original_dim, activation='sigmoid')])\n",
        "    \n",
        "    # get the decoder results\n",
        "    x_pred = self.decoder(z)\n",
        "    \n",
        "    # end-to-end autoencoder build and complie the model\n",
        "    self.vae = Model(inputs=[x, eps], outputs=x_pred)\n",
        "    self.vae.compile(optimizer='rmsprop', loss=self.nll)\n",
        "    \n",
        "\n",
        "  def nll(self, y_true, y_pred):\n",
        "    \"\"\" Negative log likelihood (Bernoulli). \"\"\"\n",
        "\n",
        "    # keras.losses.binary_crossentropy gives the mean\n",
        "    return K.sum(K.binary_crossentropy(y_true, y_pred), axis=-1)\n",
        "    \n",
        "  def get_vae_model(self):\n",
        "    return self.vae\n",
        "  \n",
        "  def get_encoder(self):\n",
        "    return self.encoder\n",
        "  \n",
        "  def get_decoder(self):\n",
        "    return self.decoder"
      ],
      "execution_count": 0,
      "outputs": []
    },
    {
      "metadata": {
        "id": "5hv3t_qiS66O",
        "colab_type": "text"
      },
      "cell_type": "markdown",
      "source": [
        "### Train VAE"
      ]
    },
    {
      "metadata": {
        "id": "h4wlIPuZGq1-",
        "colab_type": "code",
        "colab": {}
      },
      "cell_type": "code",
      "source": [
        "def train_VAE(to_plot=True):\n",
        "  # get the model\n",
        "  vae = vae_class.get_vae_model()\n",
        "  # train the model\n",
        "  hist = vae.fit(x_train, x_train, shuffle=True, epochs=50, batch_size=128, validation_data=(x_test, x_test))\n",
        "  # plot loss graph\n",
        "  if to_plot:\n",
        "    ax = pd.DataFrame(hist.history).plot(title='Loss (NELBO) convergence',lw=2, colormap='jet', marker='.', markersize=10)\n",
        "    ax.set_xlabel(\"epochs\")\n",
        "    ax.set_ylabel(\"NELBO\")\n",
        "  # save the model\n",
        "  if SAVE_RESULTS_TO_DRIVE:\n",
        "    set_drive_api()\n",
        "    model_type = {\"VAE\":\"none\"}\n",
        "    save_model_to_drive(model_type, vae)\n",
        "    save_resluts_to_drive_as_txt(model_type, hist.history['loss'], hist.history['val_loss'])\n",
        "  "
      ],
      "execution_count": 0,
      "outputs": []
    },
    {
      "metadata": {
        "id": "STTylX0FlMzU",
        "colab_type": "text"
      },
      "cell_type": "markdown",
      "source": [
        "###Run VAE Training"
      ]
    },
    {
      "metadata": {
        "id": "jld53Aayjkz3",
        "colab_type": "code",
        "outputId": "136c96f8-ccd1-4ab5-e85a-069f2a9d4960",
        "colab": {
          "base_uri": "https://localhost:8080/",
          "height": 2236
        }
      },
      "cell_type": "code",
      "source": [
        "# build class model\n",
        "vae_class = VAEModel()\n",
        "# get the data\n",
        "(x_train, y_train), (x_test, y_test) = FM_pre_prossecing()\n",
        "# train the model\n",
        "train_VAE()"
      ],
      "execution_count": 0,
      "outputs": [
        {
          "output_type": "stream",
          "text": [
            "Downloading data from http://fashion-mnist.s3-website.eu-central-1.amazonaws.com/train-labels-idx1-ubyte.gz\n",
            "32768/29515 [=================================] - 0s 3us/step\n",
            "Downloading data from http://fashion-mnist.s3-website.eu-central-1.amazonaws.com/train-images-idx3-ubyte.gz\n",
            "26427392/26421880 [==============================] - 2s 0us/step\n",
            "Downloading data from http://fashion-mnist.s3-website.eu-central-1.amazonaws.com/t10k-labels-idx1-ubyte.gz\n",
            "8192/5148 [===============================================] - 0s 0us/step\n",
            "Downloading data from http://fashion-mnist.s3-website.eu-central-1.amazonaws.com/t10k-images-idx3-ubyte.gz\n",
            "4423680/4422102 [==============================] - 1s 0us/step\n",
            "Train on 60000 samples, validate on 10000 samples\n",
            "Epoch 1/50\n",
            "60000/60000 [==============================] - 6s 104us/step - loss: 303.4479 - val_loss: 281.6887\n",
            "Epoch 2/50\n",
            "60000/60000 [==============================] - 4s 71us/step - loss: 273.8211 - val_loss: 272.5722\n",
            "Epoch 3/50\n",
            "60000/60000 [==============================] - 4s 71us/step - loss: 265.1899 - val_loss: 262.7635\n",
            "Epoch 4/50\n",
            "60000/60000 [==============================] - 4s 70us/step - loss: 260.2535 - val_loss: 261.9590\n",
            "Epoch 5/50\n",
            "60000/60000 [==============================] - 4s 71us/step - loss: 256.7718 - val_loss: 256.2712\n",
            "Epoch 6/50\n",
            "60000/60000 [==============================] - 4s 71us/step - loss: 254.4683 - val_loss: 254.3220\n",
            "Epoch 7/50\n",
            "60000/60000 [==============================] - 4s 70us/step - loss: 252.8025 - val_loss: 255.5479\n",
            "Epoch 8/50\n",
            "60000/60000 [==============================] - 4s 70us/step - loss: 251.5547 - val_loss: 251.1141\n",
            "Epoch 9/50\n",
            "60000/60000 [==============================] - 4s 71us/step - loss: 250.5904 - val_loss: 251.7951\n",
            "Epoch 10/50\n",
            "60000/60000 [==============================] - 4s 71us/step - loss: 249.7642 - val_loss: 250.6585\n",
            "Epoch 11/50\n",
            "60000/60000 [==============================] - 4s 71us/step - loss: 249.0724 - val_loss: 249.6798\n",
            "Epoch 12/50\n",
            "60000/60000 [==============================] - 4s 70us/step - loss: 248.4990 - val_loss: 250.8171\n",
            "Epoch 13/50\n",
            "60000/60000 [==============================] - 4s 71us/step - loss: 247.9597 - val_loss: 250.5446\n",
            "Epoch 14/50\n",
            "60000/60000 [==============================] - 4s 71us/step - loss: 247.5177 - val_loss: 249.1234\n",
            "Epoch 15/50\n",
            "60000/60000 [==============================] - 4s 70us/step - loss: 247.0909 - val_loss: 249.3967\n",
            "Epoch 16/50\n",
            "60000/60000 [==============================] - 4s 71us/step - loss: 246.6853 - val_loss: 247.9719\n",
            "Epoch 17/50\n",
            "60000/60000 [==============================] - 4s 70us/step - loss: 246.3035 - val_loss: 247.7719\n",
            "Epoch 18/50\n",
            "60000/60000 [==============================] - 4s 70us/step - loss: 246.0071 - val_loss: 247.1128\n",
            "Epoch 19/50\n",
            "60000/60000 [==============================] - 4s 71us/step - loss: 245.6838 - val_loss: 248.2155\n",
            "Epoch 20/50\n",
            "60000/60000 [==============================] - 4s 71us/step - loss: 245.3805 - val_loss: 247.1719\n",
            "Epoch 21/50\n",
            "60000/60000 [==============================] - 4s 70us/step - loss: 245.1135 - val_loss: 247.2800\n",
            "Epoch 22/50\n",
            "60000/60000 [==============================] - 4s 70us/step - loss: 244.8682 - val_loss: 246.3854\n",
            "Epoch 23/50\n",
            "60000/60000 [==============================] - 4s 70us/step - loss: 244.6025 - val_loss: 246.6265\n",
            "Epoch 24/50\n",
            "60000/60000 [==============================] - 4s 71us/step - loss: 244.4100 - val_loss: 246.3883\n",
            "Epoch 25/50\n",
            "60000/60000 [==============================] - 4s 71us/step - loss: 244.2083 - val_loss: 246.3733\n",
            "Epoch 26/50\n",
            "60000/60000 [==============================] - 4s 70us/step - loss: 243.9655 - val_loss: 245.4023\n",
            "Epoch 27/50\n",
            "60000/60000 [==============================] - 4s 71us/step - loss: 243.7767 - val_loss: 246.7522\n",
            "Epoch 28/50\n",
            "60000/60000 [==============================] - 4s 70us/step - loss: 243.6254 - val_loss: 246.0992\n",
            "Epoch 29/50\n",
            "60000/60000 [==============================] - 4s 70us/step - loss: 243.4884 - val_loss: 245.7428\n",
            "Epoch 30/50\n",
            "60000/60000 [==============================] - 4s 71us/step - loss: 243.2781 - val_loss: 246.2325\n",
            "Epoch 31/50\n",
            "60000/60000 [==============================] - 4s 71us/step - loss: 243.1532 - val_loss: 246.0539\n",
            "Epoch 32/50\n",
            "60000/60000 [==============================] - 4s 70us/step - loss: 243.0003 - val_loss: 244.4809\n",
            "Epoch 33/50\n",
            "60000/60000 [==============================] - 4s 70us/step - loss: 242.8868 - val_loss: 244.8301\n",
            "Epoch 34/50\n",
            "60000/60000 [==============================] - 4s 70us/step - loss: 242.7408 - val_loss: 244.4804\n",
            "Epoch 35/50\n",
            "60000/60000 [==============================] - 4s 70us/step - loss: 242.6469 - val_loss: 244.5392\n",
            "Epoch 36/50\n",
            "60000/60000 [==============================] - 4s 70us/step - loss: 242.5099 - val_loss: 244.4075\n",
            "Epoch 37/50\n",
            "60000/60000 [==============================] - 4s 71us/step - loss: 242.3584 - val_loss: 245.3084\n",
            "Epoch 38/50\n",
            "60000/60000 [==============================] - 4s 71us/step - loss: 242.2449 - val_loss: 244.7049\n",
            "Epoch 39/50\n",
            "60000/60000 [==============================] - 4s 70us/step - loss: 242.1470 - val_loss: 244.8442\n",
            "Epoch 40/50\n",
            "60000/60000 [==============================] - 4s 70us/step - loss: 242.1064 - val_loss: 243.7494\n",
            "Epoch 41/50\n",
            "60000/60000 [==============================] - 4s 71us/step - loss: 241.9683 - val_loss: 243.9419\n",
            "Epoch 42/50\n",
            "60000/60000 [==============================] - 4s 71us/step - loss: 241.9031 - val_loss: 244.2654\n",
            "Epoch 43/50\n",
            "60000/60000 [==============================] - 4s 70us/step - loss: 241.7869 - val_loss: 243.8488\n",
            "Epoch 44/50\n",
            "60000/60000 [==============================] - 4s 70us/step - loss: 241.7515 - val_loss: 244.1107\n",
            "Epoch 45/50\n",
            "60000/60000 [==============================] - 4s 71us/step - loss: 241.6175 - val_loss: 243.8921\n",
            "Epoch 46/50\n",
            "60000/60000 [==============================] - 4s 70us/step - loss: 241.5931 - val_loss: 243.3315\n",
            "Epoch 47/50\n",
            "60000/60000 [==============================] - 4s 70us/step - loss: 241.4719 - val_loss: 243.8597\n",
            "Epoch 48/50\n",
            "60000/60000 [==============================] - 4s 71us/step - loss: 241.4285 - val_loss: 243.6878\n",
            "Epoch 49/50\n",
            "60000/60000 [==============================] - 4s 70us/step - loss: 241.3309 - val_loss: 243.9251\n",
            "Epoch 50/50\n",
            "60000/60000 [==============================] - 4s 70us/step - loss: 241.2670 - val_loss: 243.9409\n",
            "Uploaded file with ID 1Zxp1H4nFtCxP70fqiSaQBcr-kd36cQAP\n",
            "Saved full model VAE to disk\n",
            "Uploaded file with ID 1pYMaUhHApd6XG8K0n3TjKLaKFAEfHYTx\n"
          ],
          "name": "stdout"
        },
        {
          "output_type": "display_data",
          "data": {
            "image/png": "[encoded data removed]",
            "text/plain": [
              "<matplotlib.figure.Figure at 0x7f0728fe8400>"
            ]
          },
          "metadata": {
            "tags": []
          }
        }
      ]
    },
    {
      "metadata": {
        "id": "6nU78zgeD41z",
        "colab_type": "text"
      },
      "cell_type": "markdown",
      "source": [
        "###Test VAE"
      ]
    },
    {
      "metadata": {
        "id": "E7Gulr7BD767",
        "colab_type": "code",
        "outputId": "fce97273-3028-4cd8-a394-c52e87e0fed3",
        "colab": {
          "base_uri": "https://localhost:8080/",
          "height": 87
        }
      },
      "cell_type": "code",
      "source": [
        "model_filename = \"model_VAE.h5\"\n",
        "# download from drive and build the VAE model\n",
        "restord_file_name = dowanload_file_drive_by_file_name(model_filename)\n",
        "# crate the custom class\n",
        "restored_vae_model = VAEModel()\n",
        "# load the wights\n",
        "restored_vae_model.vae.load_weights(restord_file_name)\n",
        "# evaluate model loss on x_test\n",
        "restored_loss = restored_vae_model.vae.evaluate(x_test, x_test)\n",
        "print(\"restored VAE model loss on x_test: {}\".format(restored_loss))"
      ],
      "execution_count": 0,
      "outputs": [
        {
          "output_type": "stream",
          "text": [
            "title: model_VAE.h5, id: 1Zxp1H4nFtCxP70fqiSaQBcr-kd36cQAP\n",
            "downloading to /root/data/model_VAE.h5\n",
            "10000/10000 [==============================] - 1s 68us/step\n",
            "restored VAE model loss on x_test: 243.82914182128906\n"
          ],
          "name": "stdout"
        }
      ]
    },
    {
      "metadata": {
        "id": "IhZ5MKC__ohF",
        "colab_type": "text"
      },
      "cell_type": "markdown",
      "source": [
        "###TRANSDUCTIVE SVM"
      ]
    },
    {
      "metadata": {
        "id": "rGkn2YKDor2o",
        "colab_type": "code",
        "outputId": "7ae28025-fc0c-46d8-b2b1-039ab18d48f1",
        "colab": {
          "base_uri": "https://localhost:8080/",
          "height": 193
        }
      },
      "cell_type": "code",
      "source": [
        "# get the encoder\n",
        "encoder = vae_class.get_encoder()\n",
        "# create list for the results\n",
        "label_sizes = [100, 600, 1000, 3000]\n",
        "mean_accuracys = []\n",
        "mean_errors = []\n",
        "stds = []\n",
        "\n",
        "# set drive\n",
        "set_drive_api()\n",
        "# run on the diffrent label sizes\n",
        "for label_size in label_sizes:\n",
        "  # get the blanced data\n",
        "  x, y = balanced_subsample(x_train, y_train, subsample_size_per_label=label_size)\n",
        "  # use the encoder to generate the encode data\n",
        "  x_tag = encoder.predict(x)\n",
        "  # use simple svm classifer \n",
        "  clf = svm.SVC(gamma='scale')\n",
        "  # preform cross validation of 10 models\n",
        "  scores = cross_val_score(clf, x_tag, y, cv=10)\n",
        "  # cross validation copy the model and don't save it\n",
        "  # becuse of that we will run fit() again to save the fitted model, \n",
        "  # there might be differences between the results and the restored model\n",
        "  clf.fit(x_tag, y)\n",
        "  mean, std = np.mean(scores), np.std(scores)\n",
        "  error = 1-mean\n",
        "  # add results to list\n",
        "  mean_accuracys.append(mean)\n",
        "  mean_errors.append(error)\n",
        "  stds.append(std)\n",
        "  print(\"label size: {}, mean accuracy score: {}, std of accuracy: {}, mean error: {}.\".format(label_size, mean, std, error))\n",
        "  # save the model to disk\n",
        "  filename = 'svm_model_{}.sav'.format(label_size)\n",
        "  pickle.dump(clf, open(filename, 'wb'))\n",
        "  # upload to drive\n",
        "  save(filename)\n",
        "\n",
        "# summarize the results in the df and save it to drive\n",
        "model_results = \"svm_model_results.txt\"\n",
        "svm_results_df = pd.DataFrame({'label_size': label_sizes, 'mean_accuracy':mean_accuracys, 'mean_error':mean_errors, 'stds':stds})\n",
        "# write results locally\n",
        "svm_results_df.to_csv(model_results, header=None, index=None, sep=' ')\n",
        "# upload to drive\n",
        "save(model_results)\n"
      ],
      "execution_count": 0,
      "outputs": [
        {
          "output_type": "stream",
          "text": [
            "label size: 100, mean accuracy score: 0.8140000000000001, std of accuracy: 0.03903844259188627, mean error: 0.18599999999999994.\n",
            "Uploaded file with ID 16ZTBwwi7xUAPPSxhh-Hcl6lUFZO_rqnH\n",
            "label size: 600, mean accuracy score: 0.8470000000000001, std of accuracy: 0.013494854986664796, mean error: 0.1529999999999999.\n",
            "Uploaded file with ID 1Ce8PDjc-LCIhrZu_3CYSN6DvIWgfSkll\n",
            "label size: 1000, mean accuracy score: 0.8486, std of accuracy: 0.007657675887630665, mean error: 0.15139999999999998.\n",
            "Uploaded file with ID 1Ye5x7_gufAzrk5Iy33-HpGqbPiY0EljP\n",
            "label size: 3000, mean accuracy score: 0.8603333333333334, std of accuracy: 0.00408520365329428, mean error: 0.1396666666666666.\n",
            "Uploaded file with ID 1lTnYpscSAsniR7fVjDqD1fStsjn2EhHW\n",
            "Uploaded file with ID 1xw12DhVEVIQNiR-y2MrIskYAvNxoySwq\n"
          ],
          "name": "stdout"
        }
      ]
    },
    {
      "metadata": {
        "id": "HefO3gs5DrbT",
        "colab_type": "text"
      },
      "cell_type": "markdown",
      "source": [
        "###Test TRANSDUCTIVE SVM"
      ]
    },
    {
      "metadata": {
        "id": "vTnca3MmEAFo",
        "colab_type": "code",
        "outputId": "17dc5ed9-f270-44ec-8be3-c38808b1b110",
        "colab": {
          "base_uri": "https://localhost:8080/",
          "height": 69
        }
      },
      "cell_type": "code",
      "source": [
        "# load TRANSDUCTIVE SVM model according to your label size\n",
        "label_size = 1000\n",
        "filename = 'svm_model_{}.sav'.format(label_size)\n",
        "set_drive_api()\n",
        "\n",
        "# get the encoder from the model \n",
        "restored_encoder = restored_vae_model.get_encoder()\n",
        "# download model from drive to dick\n",
        "restord_file_name_svm = dowanload_file_drive_by_file_name(filename)\n",
        "# load the model from disk\n",
        "loaded_svm_model = pickle.load(open(restord_file_name_svm, 'rb'))\n",
        "\n",
        "x_for_test, y_of_test = balanced_subsample(x_train, y_train, subsample_size_per_label=label_size)\n",
        "# use the encoder to generate the encode data\n",
        "x_tag_x_for_test = restored_encoder.predict(x_for_test)\n",
        "# get the results from the the pretrained model\n",
        "result = loaded_svm_model.score(x_tag_x_for_test, y_of_test)\n",
        "print(\"Restored model results accuracy : {}, for number of labels: {}.\".format(result, label_size))"
      ],
      "execution_count": 0,
      "outputs": [
        {
          "output_type": "stream",
          "text": [
            "title: svm_model_1000.sav, id: 1Ye5x7_gufAzrk5Iy33-HpGqbPiY0EljP\n",
            "downloading to /root/data/svm_model_1000.sav\n",
            "Restored model results accuracy : 0.8644, for number of labels: 1000.\n"
          ],
          "name": "stdout"
        }
      ]
    },
    {
      "metadata": {
        "colab_type": "text",
        "id": "KaOB4vlv9zWm"
      },
      "cell_type": "markdown",
      "source": [
        "##WGAN"
      ]
    },
    {
      "metadata": {
        "id": "O5dwMPLZdC--",
        "colab_type": "code",
        "colab": {}
      },
      "cell_type": "code",
      "source": [
        "BATCH_SIZE = 64\n",
        "# The training ratio is the number of discriminator updates per generator update. The paper uses 5.\n",
        "TRAINING_RATIO = 5  \n",
        "GRADIENT_PENALTY_WEIGHT = 10  # As per the paper\n",
        "CLIP_VALUE = 0.01\n",
        "OPTIMIZER=Adam(0.0001, beta_1=0.5, beta_2=0.9)"
      ],
      "execution_count": 0,
      "outputs": []
    },
    {
      "metadata": {
        "id": "yLPg-H5PnNRM",
        "colab_type": "code",
        "colab": {}
      },
      "cell_type": "code",
      "source": [
        "class RandomWeightedAverage(_Merge):\n",
        "    \"\"\"Takes a randomly-weighted average of two tensors. In geometric terms, this outputs a random point on the line\n",
        "    between each pair of input points.\n",
        "    Inheriting from _Merge is a little messy but it was the quickest solution I could think of.\n",
        "    Improvements appreciated.\"\"\"\n",
        "\n",
        "    def _merge_function(self, inputs):\n",
        "        weights = K.random_uniform((BATCH_SIZE, 1, 1, 1))\n",
        "        return (weights * inputs[0]) + ((1 - weights) * inputs[1])"
      ],
      "execution_count": 0,
      "outputs": []
    },
    {
      "metadata": {
        "id": "QaD6OVKzoAXN",
        "colab_type": "code",
        "colab": {}
      },
      "cell_type": "code",
      "source": [
        "def generate_images(generator_model, number_of_images=10, is_wgan=True):\n",
        "    \"\"\"Feeds random seeds into the generator and tiles and saves the output to a PNG file.\"\"\"\n",
        "    test_image_stack = generator_model.predict(np.random.rand(number_of_images, 100))\n",
        "    test_image_stack = (test_image_stack * 127.5) + 127.5\n",
        "    test_image_stack = np.squeeze(np.round(test_image_stack).astype(np.uint8))\n",
        "    \n",
        "    image_list = [test_image_stack[i, :, :] for i in range(test_image_stack.shape[0])]\n",
        "    # ploting the image to screan\n",
        "    plt.figure(figsize=(10,10))\n",
        "    for index, image_array in enumerate(image_list):\n",
        "      plt.subplot(10, 10, index+1)\n",
        "      # transform to image\n",
        "      im = Image.fromarray(image_array, mode='L')\n",
        "      # resize\n",
        "      im = im.resize((200, 200))\n",
        "      # show images\n",
        "      imshow(np.asarray(im))\n",
        "      plt.axis('off')\n",
        "      # get gan type\n",
        "      if is_wgan:\n",
        "        gan_type ='wgan'\n",
        "      else:\n",
        "        gan_type ='dcgan'\n",
        "      # save locally\n",
        "      file_name = '{}_img_{}.png'.format(gan_type, index)\n",
        "      im.save(file_name)\n",
        "      # try save to drive\n",
        "      try:\n",
        "        save(file_name)\n",
        "      except:\n",
        "        print(\"could not save to drive\")\n",
        "    # set up the images together nicely\n",
        "    plt.tight_layout()"
      ],
      "execution_count": 0,
      "outputs": []
    },
    {
      "metadata": {
        "id": "19NduKfGg59R",
        "colab_type": "text"
      },
      "cell_type": "markdown",
      "source": [
        "### Wasserstein Loss"
      ]
    },
    {
      "metadata": {
        "id": "JgED2-vQdSlj",
        "colab_type": "code",
        "colab": {}
      },
      "cell_type": "code",
      "source": [
        "def wasserstein_loss(y_true, y_pred):\n",
        "    return K.mean(y_true * y_pred)"
      ],
      "execution_count": 0,
      "outputs": []
    },
    {
      "metadata": {
        "id": "QQ9XsmoRg-cX",
        "colab_type": "text"
      },
      "cell_type": "markdown",
      "source": [
        "###Gradient Penalty"
      ]
    },
    {
      "metadata": {
        "id": "BsRp1xvCedjU",
        "colab_type": "code",
        "colab": {}
      },
      "cell_type": "code",
      "source": [
        "def gradient_penalty_loss(y_true, y_pred, averaged_samples, gradient_penalty_weight):\n",
        "    # first get the gradients:\n",
        "    #   assuming: - that y_pred has dimensions (batch_size, 1)\n",
        "    #             - averaged_samples has dimensions (batch_size, nbr_features)\n",
        "    # gradients afterwards has dimension (batch_size, nbr_features), basically\n",
        "    # a list of nbr_features-dimensional gradient vectors\n",
        "    gradients = K.gradients(y_pred, averaged_samples)[0]\n",
        "    # compute the euclidean norm by squaring ...\n",
        "    gradients_sqr = K.square(gradients)\n",
        "    #   ... summing over the rows ...\n",
        "    gradients_sqr_sum = K.sum(gradients_sqr, axis=np.arange(1, len(gradients_sqr.shape)))\n",
        "    #   ... and sqrt\n",
        "    gradient_l2_norm = K.sqrt(gradients_sqr_sum)\n",
        "    # compute lambda * (1 - ||grad||)^2 still for each single sample\n",
        "    gradient_penalty = gradient_penalty_weight * K.square(1 - gradient_l2_norm)\n",
        "    # return the mean as loss over all the batch samples\n",
        "    return K.mean(gradient_penalty)"
      ],
      "execution_count": 0,
      "outputs": []
    },
    {
      "metadata": {
        "id": "oGXP90KIngEA",
        "colab_type": "text"
      },
      "cell_type": "markdown",
      "source": [
        "###WGAN Generator"
      ]
    },
    {
      "metadata": {
        "id": "wat8D0SmmGMK",
        "colab_type": "code",
        "colab": {}
      },
      "cell_type": "code",
      "source": [
        "def build_wgan_generator():\n",
        "  \"\"\"Creates a generator model that takes a 100-dimensional noise vector as a \"seed\", \n",
        "  and outputs images of size 28x28x1.\"\"\"\n",
        "  model = Sequential()\n",
        "  model.add(Dense(1024))\n",
        "  model.add(LeakyReLU())\n",
        "  model.add(Dense(128 * 7 * 7))\n",
        "  model.add(BatchNormalization())\n",
        "  model.add(LeakyReLU())\n",
        "  model.add(Reshape((7, 7, 128), input_shape=(128 * 7 * 7,)))\n",
        "  model.add(Conv2DTranspose(128, (5, 5), strides=2, padding='same'))\n",
        "  model.add(BatchNormalization(axis=3))\n",
        "  model.add(LeakyReLU())\n",
        "  model.add(Convolution2D(64, (5, 5), padding='same'))\n",
        "  model.add(BatchNormalization(axis=3))\n",
        "  model.add(LeakyReLU())\n",
        "  model.add(Conv2DTranspose(64, (5, 5), strides=2, padding='same'))\n",
        "  model.add(BatchNormalization(axis=3))\n",
        "  model.add(LeakyReLU())\n",
        "  # Because we normalized training inputs to lie in the range [-1, 1],\n",
        "  # the tanh function should be used for the output of the generator to ensure its output\n",
        "  # also lies in this range.\n",
        "  model.add(Convolution2D(1, (5, 5), padding='same', activation='tanh'))\n",
        "\n",
        "  return model"
      ],
      "execution_count": 0,
      "outputs": []
    },
    {
      "metadata": {
        "id": "_o1yJKBgnoMH",
        "colab_type": "text"
      },
      "cell_type": "markdown",
      "source": [
        "### WGAN Discriminator"
      ]
    },
    {
      "metadata": {
        "id": "7aaXJOBymeVF",
        "colab_type": "code",
        "colab": {}
      },
      "cell_type": "code",
      "source": [
        "def build_wgan_discriminator():\n",
        "  \"\"\"Creates a discriminator model that takes an image as input and outputs a single value, representing whether\n",
        "  the input is real or generated.\"\"\"\n",
        "  model = Sequential()\n",
        "  model.add(Convolution2D(64, (5, 5), padding='same', input_shape=(28, 28, 1)))\n",
        "  model.add(LeakyReLU())\n",
        "  model.add(Convolution2D(128, (5, 5), kernel_initializer='he_normal', strides=[2, 2], data_format = 'channels_last'))\n",
        "  model.add(LeakyReLU())\n",
        "  model.add(Convolution2D(128, (5, 5), kernel_initializer='he_normal', padding='same', strides=[2, 2]))\n",
        "  model.add(LeakyReLU())\n",
        "  model.add(Flatten())\n",
        "  model.add(Dense(1024, kernel_initializer='he_normal'))\n",
        "  model.add(LeakyReLU())\n",
        "  model.add(Dense(1, kernel_initializer='he_normal'))\n",
        "\n",
        "  return model"
      ],
      "execution_count": 0,
      "outputs": []
    },
    {
      "metadata": {
        "id": "-7nHyNeXo_pG",
        "colab_type": "text"
      },
      "cell_type": "markdown",
      "source": [
        "### Setup WGAN for Training"
      ]
    },
    {
      "metadata": {
        "id": "sj6K3q9CpCaU",
        "colab_type": "code",
        "colab": {}
      },
      "cell_type": "code",
      "source": [
        "class WGAN:\n",
        "  \n",
        "  def __init__(self):\n",
        "    \n",
        "    # get the data\n",
        "    (self.x_train, _), (_, _) = FM_pre_prossecing(False)\n",
        "\n",
        "    # initialize the generator and discriminator.\n",
        "    self.wgan_generator = build_wgan_generator()\n",
        "    self.wgan_discriminator = build_wgan_discriminator()\n",
        "\n",
        "    # The generator_model is used when we want to train the generator layers.\n",
        "    # As such, we ensure that the discriminator layers are not trainable.\n",
        "    for layer in self.wgan_discriminator.layers:\n",
        "        layer.trainable = False\n",
        "    self.wgan_discriminator.trainable = False\n",
        "\n",
        "    generator_input = Input(shape=(100,))\n",
        "    generator_layers = self.wgan_generator(generator_input)\n",
        "    discriminator_layers_for_generator = self.wgan_discriminator(generator_layers)\n",
        "    self.wgan_generator_model = Model(inputs=[generator_input], outputs=[discriminator_layers_for_generator])\n",
        "\n",
        "    # We use the Adam paramaters from Gulrajani et al.\n",
        "    self.wgan_generator_model.compile(optimizer=Adam(0.0001, beta_1=0.5, beta_2=0.9), loss=wasserstein_loss)\n",
        "\n",
        "    # Now that the generator_model is compiled, we can make the discriminator layers trainable.\n",
        "    for layer in self.wgan_discriminator.layers:\n",
        "        layer.trainable = True\n",
        "    for layer in self.wgan_generator.layers:\n",
        "        layer.trainable = False\n",
        "    self.wgan_discriminator.trainable = True\n",
        "    self.wgan_generator.trainable = False\n",
        "\n",
        "    # The discriminator_model is more complex. \n",
        "    # It takes both real image samples and random noise seeds as input.\n",
        "    # The noise seed is run through the generator model to get generated images. \n",
        "    # Both real and generated images\n",
        "    # are then run through the discriminator. \n",
        "    real_samples = Input(shape=x_train.shape[1:])\n",
        "    generator_input_for_discriminator = Input(shape=(100,))\n",
        "    generated_samples_for_discriminator = self.wgan_generator(generator_input_for_discriminator)\n",
        "    discriminator_output_from_generator = self.wgan_discriminator(generated_samples_for_discriminator)\n",
        "    discriminator_output_from_real_samples = self.wgan_discriminator(real_samples)\n",
        "\n",
        "    # We also need to generate weighted-averages of real and generated samples, to use for the gradient norm penalty.\n",
        "    averaged_samples = RandomWeightedAverage()([real_samples, generated_samples_for_discriminator])\n",
        "    # We then run these samples through the discriminator as well.\n",
        "    averaged_samples_out = self.wgan_discriminator(averaged_samples)\n",
        "\n",
        "    # keras limitations\n",
        "    partial_gp_loss = partial(gradient_penalty_loss,\n",
        "                              averaged_samples=averaged_samples,\n",
        "                              gradient_penalty_weight=GRADIENT_PENALTY_WEIGHT)\n",
        "    partial_gp_loss.__name__ = 'gradient_penalty'  \n",
        "\n",
        "\n",
        "    self.wgan_discriminator_model = Model(inputs=[real_samples, generator_input_for_discriminator],\n",
        "                                outputs=[discriminator_output_from_real_samples, discriminator_output_from_generator, averaged_samples_out])\n",
        "\n",
        "    # We use the Wasserstein loss for both the real and generated samples,\n",
        "    # and the gradient penalty loss for the averaged samples.\n",
        "    self.wgan_discriminator_model.compile(optimizer=Adam(0.0001, beta_1=0.5, beta_2=0.9),\n",
        "                                loss=[wasserstein_loss, wasserstein_loss, partial_gp_loss])\n",
        "\n",
        "    # We make three label vectors for training. positive_y is the label vector for real samples, with value 1.\n",
        "    # negative_y is the label vector for generated samples, with value -1. The dummy_y vector is passed to the\n",
        "    # gradient_penalty loss function and is not used.\n",
        "    self.positive_y = np.ones((BATCH_SIZE, 1), dtype=np.float32)\n",
        "    self.negative_y = -positive_y\n",
        "    self.dummy_y = np.zeros((BATCH_SIZE, 1), dtype=np.float32)\n",
        "    \n",
        "  def train_WGAN(self, number_of_epochs, save_results=True, generate_new_images=True, load_exsiting_model=True, plot_loss=True, use_clip_weights=False):\n",
        "\n",
        "    # file names\n",
        "    wgan_discriminator_model_wigths_file_name = 'wgan_discriminator_model_wigths.h5'\n",
        "    wgan_generator_model_wigths_file_name = 'wgan_generator_model_wigths.h5'\n",
        "    wgan_generator_file_name = 'wgan_generator_wigths.hdf5'\n",
        "\n",
        "    if load_exsiting_model:\n",
        "      self.wgan_discriminator_model = load_model_wigths_by_file_name(self.wgan_discriminator_model, wgan_discriminator_model_wigths_file_name)\n",
        "      self.wgan_generator_model = load_model_wigths_by_file_name(self.wgan_generator_model, wgan_generator_model_wigths_file_name)\n",
        "#       self.wgan_generator = load_model_wigths_by_file_name(self.wgan_generator, wgan_generator_wigths_file_name)\n",
        "\n",
        "    # shuffel the data\n",
        "    np.random.shuffle(self.x_train)\n",
        "\n",
        "    # masure total training time\n",
        "    t0 = time.time()\n",
        "\n",
        "    # end of epoch lists\n",
        "    self.wgan_discriminator_end_of_epoch_loss = []\n",
        "    self.wgan_generator_loss = []\n",
        "    \n",
        "    for epoch in range(number_of_epochs):\n",
        "\n",
        "      # masure epoch training time\n",
        "      t2 = time.time()\n",
        "\n",
        "      # ---------------------\n",
        "      #  Train Discriminator\n",
        "      # ---------------------\n",
        "\n",
        "      print(\"Epoch: \", epoch)\n",
        "      print(\"Number of batches: \", int(self.x_train.shape[0] // BATCH_SIZE))\n",
        "\n",
        "      self.wgan_discriminator_loss = []\n",
        "      \n",
        "      minibatches_size = BATCH_SIZE * TRAINING_RATIO\n",
        "\n",
        "      for i in range(int(self.x_train.shape[0] // (BATCH_SIZE * TRAINING_RATIO))):\n",
        "        discriminator_minibatches = self.x_train[i * minibatches_size:(i + 1) * minibatches_size]\n",
        "\n",
        "        for j in range(TRAINING_RATIO):\n",
        "          image_batch = discriminator_minibatches[j * BATCH_SIZE:(j + 1) * BATCH_SIZE]\n",
        "          noise = np.random.rand(BATCH_SIZE, 100).astype(np.float32)\n",
        "          self.wgan_discriminator_loss.append(self.wgan_discriminator_model.train_on_batch([image_batch, noise], \n",
        "                                                                                           [self.positive_y, self.negative_y, self.dummy_y]))\n",
        "      # add last loss to the list\n",
        "      self.wgan_discriminator_end_of_epoch_loss.append(self.wgan_discriminator_loss[-1][0])\n",
        "      \n",
        "      if use_clip_weights:\n",
        "        # Clip discriminator weights\n",
        "        for l in self.wgan_discriminator_model.layers:\n",
        "            weights = l.get_weights()\n",
        "            weights = [np.clip(w, -CLIP_VALUE, CLIP_VALUE) for w in weights]\n",
        "            l.set_weights(weights)\n",
        "\n",
        "      # ---------------------\n",
        "      #  Train Generator\n",
        "      # ---------------------\n",
        "\n",
        "      self.wgan_generator_loss.append(self.wgan_generator_model.train_on_batch(np.random.rand(BATCH_SIZE, 100), self.positive_y))\n",
        "\n",
        "      t3 = time.time()\n",
        "      print(\"Epoch training time: %0.2fs\" % (t3 - t2))\n",
        "\n",
        "    t1 = time.time()\n",
        "    print(\"Total training time: %0.2fs\" % (t1 - t0))\n",
        "    \n",
        "    # summarize the results in the df    \n",
        "    wgan_results_df = pd.DataFrame({\"generator_loss\": self.wgan_generator_loss, \"discriminator_loss\":self.wgan_discriminator_end_of_epoch_loss})\n",
        "\n",
        "    if save_results:\n",
        "\n",
        "      # save wights locally \n",
        "      # -- for retrain --\n",
        "      self.wgan_discriminator_model.save_weights(wgan_discriminator_model_wigths_file_name)\n",
        "      self.wgan_generator_model.save_weights(wgan_generator_model_wigths_file_name)\n",
        "      # -- for generation of new images -- \n",
        "      self.wgan_generator.save(wgan_generator_file_name)\n",
        "\n",
        "      # upload to drive\n",
        "      set_drive_api()\n",
        "      save(wgan_discriminator_model_wigths_file_name)\n",
        "      save(wgan_generator_model_wigths_file_name)\n",
        "      save(wgan_generator_file_name)\n",
        "\n",
        "      # write results locally\n",
        "      model_results = \"wgan_model_results.txt\"\n",
        "      wgan_results_df.to_csv(model_results, header=None, index=None, sep=' ')\n",
        "      # upload to drive\n",
        "      save(model_results)\n",
        "\n",
        "    if plot_loss:\n",
        "      ax = wgan_results_df.plot(title='Loss Per Epochs',lw=2, colormap='jet', marker='.', markersize=10)\n",
        "      ax.set_xlabel(\"Epochs\")\n",
        "      ax.set_ylabel(\"Loss\")  "
      ],
      "execution_count": 0,
      "outputs": []
    },
    {
      "metadata": {
        "id": "SWnsEU9xJ91h",
        "colab_type": "text"
      },
      "cell_type": "markdown",
      "source": [
        "###Train WGAN"
      ]
    },
    {
      "metadata": {
        "id": "YB-VzzU5_eEc",
        "colab_type": "code",
        "outputId": "a00b7827-fe74-4fdb-aea2-e66e5455d521",
        "colab": {
          "base_uri": "https://localhost:8080/",
          "height": 277
        }
      },
      "cell_type": "code",
      "source": [
        "# set up wgan instance\n",
        "wgan = WGAN()\n",
        "# train it\n",
        "wgan.train_WGAN(2, plot_loss=False, load_exsiting_model=True)"
      ],
      "execution_count": 0,
      "outputs": [
        {
          "output_type": "stream",
          "text": [
            "title: wgan_discriminator_model_wigths.h5, id: 1uTf11euZ5WaJpUC5xeO_gGPnQTLOQU8c\n",
            "downloading to /root/data/wgan_discriminator_model_wigths.h5\n",
            "title: wgan_generator_model_wigths.h5, id: 1aUviWuzH71Qhh6KCw2JgZDDwDKY3-wyJ\n",
            "downloading to /root/data/wgan_generator_model_wigths.h5\n",
            "Epoch:  0\n",
            "Number of batches:  1093\n",
            "Epoch training time: 116.99s\n",
            "Epoch:  1\n",
            "Number of batches:  1093\n",
            "Epoch training time: 98.19s\n",
            "Total training time: 215.18s\n",
            "Uploaded file with ID 1YpyPoXraU5NgoXTfaZRYb7v5-R4lCAcf\n",
            "Uploaded file with ID 1WZgwAk8CR4-QwBrwNOAJLumXqF0_x1Va\n",
            "Uploaded file with ID 1Ry9UPSyW9BwlzBRppbW2oEp_AFL2ufal\n",
            "Uploaded file with ID 19TxvAsu_fTBHulaRKdVAtgSfDVUhkFfi\n"
          ],
          "name": "stdout"
        }
      ]
    },
    {
      "metadata": {
        "id": "JzVO6urNqM9M",
        "colab_type": "text"
      },
      "cell_type": "markdown",
      "source": [
        "### WGAN Genarate New Images From Loaded Model"
      ]
    },
    {
      "metadata": {
        "id": "kWALZYbeq7qF",
        "colab_type": "code",
        "colab": {}
      },
      "cell_type": "code",
      "source": [
        "# setup number of images and run the generator\n",
        "# use more then 1\n",
        "number_of_images = 10\n",
        "# wgan_generator_wigths_file_name = 'wgan_generator_wigths.h5'\n",
        "wgan_generator_file_name = 'wgan_generator_wigths.hdf5'\n",
        "is_from_pc = False\n",
        "run_file_name = ''\n",
        "\n",
        "if not is_from_pc:\n",
        "  # download the file from drive\n",
        "  run_file_name = dowanload_file_drive_by_file_name(wgan_generator_file_name)\n",
        "else:\n",
        "  # upload model file from local file system\n",
        "  uploadedFiles = files.upload()\n",
        "  run_file_name = wgan_generator_file_name\n",
        "\n",
        "# load the model\n",
        "wgan_generator = load_model(run_file_name)\n",
        "# generate images\n",
        "generate_images(model, number_of_images, is_wgan=True)"
      ],
      "execution_count": 0,
      "outputs": []
    },
    {
      "metadata": {
        "id": "2LTiK-uz9NSm",
        "colab_type": "text"
      },
      "cell_type": "markdown",
      "source": [
        "## DCGAN"
      ]
    },
    {
      "metadata": {
        "id": "P3mPvhfuez1h",
        "colab_type": "text"
      },
      "cell_type": "markdown",
      "source": [
        "###DCGAN Generator"
      ]
    },
    {
      "metadata": {
        "id": "ydHWF1XZ97ng",
        "colab_type": "code",
        "colab": {}
      },
      "cell_type": "code",
      "source": [
        "def build_dc_generator():\n",
        "  generator = Sequential([\n",
        "          Dense(128*7*7, input_dim=100, activation=LeakyReLU(0.2)),\n",
        "          BatchNormalization(),\n",
        "          Reshape((7,7,128)),\n",
        "          UpSampling2D(),\n",
        "          Convolution2D(64, 5, 5, border_mode='same', activation=LeakyReLU(0.2)),\n",
        "          BatchNormalization(),\n",
        "          UpSampling2D(),\n",
        "          Convolution2D(1, 5, 5, border_mode='same', activation='tanh')\n",
        "      ])\n",
        "  generator.compile(loss='binary_crossentropy', optimizer=Adam())\n",
        "  return generator"
      ],
      "execution_count": 0,
      "outputs": []
    },
    {
      "metadata": {
        "id": "VD8aPOPffBdh",
        "colab_type": "text"
      },
      "cell_type": "markdown",
      "source": [
        "###DCGAN Discriminator "
      ]
    },
    {
      "metadata": {
        "id": "I9EP5xZTfHQd",
        "colab_type": "code",
        "colab": {}
      },
      "cell_type": "code",
      "source": [
        "def build_dc_discriminator():\n",
        "  discriminator = Sequential([\n",
        "          Convolution2D(64, 5, 5, subsample=(2,2), input_shape=(28,28,1), border_mode='same', activation=LeakyReLU(0.2)),\n",
        "          Dropout(0.3),\n",
        "          Convolution2D(128, 5, 5, subsample=(2,2), border_mode='same', activation=LeakyReLU(0.2)),\n",
        "          Dropout(0.3),\n",
        "          Flatten(),\n",
        "          Dense(1, activation='sigmoid')\n",
        "      ])\n",
        "  discriminator.compile(loss='binary_crossentropy', optimizer=Adam())\n",
        "  return discriminator"
      ],
      "execution_count": 0,
      "outputs": []
    },
    {
      "metadata": {
        "id": "dGRDbQ8bj9fO",
        "colab_type": "text"
      },
      "cell_type": "markdown",
      "source": [
        "### Setup DCGAN"
      ]
    },
    {
      "metadata": {
        "id": "9QkafE8MkARt",
        "colab_type": "code",
        "colab": {}
      },
      "cell_type": "code",
      "source": [
        "class DCGAN:\n",
        "  \n",
        "  def __init__(self):\n",
        "\n",
        "    # get the data\n",
        "    (self.x_train, _), (_, _) = FM_pre_prossecing(False)\n",
        "    # get generator and discriminator\n",
        "    self.dcgan_discriminator = build_dc_discriminator()\n",
        "    self.dcgan_generator = build_dc_generator()\n",
        "\n",
        "    self.dcgan_discriminator.trainable = False\n",
        "    ganInput = Input(shape=(100,))\n",
        "    # getting the output of the generator\n",
        "    # and then feeding it to the discriminator\n",
        "    # new model = D(G(input))\n",
        "    x = self.dcgan_generator(ganInput)\n",
        "    ganOutput = self.dcgan_discriminator(x)\n",
        "    self.dcgan = Model(input=ganInput, output=ganOutput)\n",
        "    self.dcgan.compile(loss='binary_crossentropy', optimizer=Adam())\n",
        "    \n",
        "  def train_DCGAN(self, number_of_epochs, save_results=True, generate_new_images=True, load_exsiting_model=True, plot_loss=True):\n",
        "\n",
        "    # file names\n",
        "    dcgan_discriminator_model_wigths_file_name = 'dcgan_discriminator_model_wigths.h5'\n",
        "    dcgan_generator_model_wigths_file_name = 'dcgan_generator_model_wigths.h5'\n",
        "    \n",
        "    if load_exsiting_model:\n",
        "      self.dcgan_discriminator = load_model_wigths_by_file_name(self.dcgan_discriminator, dcgan_discriminator_model_wigths_file_name)\n",
        "      self.dcgan_generator = load_model_wigths_by_file_name(self.dcgan_generator, dcgan_generator_model_wigths_file_name)\n",
        "\n",
        "    batch_size=128\n",
        "    batch_count = self.x_train.shape[0] // batch_size\n",
        "    self.dcgan_discriminator_end_of_epoch_loss = []\n",
        "    self.dcgan_generator_end_of_epoch_loss = []\n",
        "    \n",
        "    \n",
        "    # shuffel the data\n",
        "    np.random.shuffle(self.x_train)\n",
        "\n",
        "    # masure total training time\n",
        "    t0 = time.time()\n",
        "\n",
        "    for epoch in range(number_of_epochs):\n",
        "\n",
        "      # masure epoch training time\n",
        "      t2 = time.time()\n",
        "\n",
        "      # ---------------------\n",
        "      #  Train Discriminator\n",
        "      # ---------------------\n",
        "\n",
        "      print(\"Epoch: \", epoch)\n",
        "      \n",
        "      dc_discriminator_loss = []\n",
        "      dc_generator_loss = []\n",
        "      \n",
        "      for j in range(batch_count):\n",
        "        # Input for the generator\n",
        "        noise_input = np.random.rand(batch_size, 100)\n",
        "\n",
        "        # getting random images from x_train of size=batch_size \n",
        "        # these are the real images that will be fed to the discriminator\n",
        "        image_batch = self.x_train[np.random.randint(0, self.x_train.shape[0], size=batch_size)]\n",
        "\n",
        "        # these are the predicted images from the generator\n",
        "        predictions = self.dcgan_generator.predict(noise_input, batch_size=batch_size)\n",
        "\n",
        "        # the discriminator takes in the real images and the generated images\n",
        "        X = np.concatenate([predictions, image_batch])\n",
        "\n",
        "        # labels for the discriminator\n",
        "        y_discriminator = [0]*batch_size + [1]*batch_size\n",
        "\n",
        "        # Let's train the discriminator\n",
        "        self.dcgan_discriminator.trainable = True\n",
        "        dc_discriminator_loss.append(self.dcgan_discriminator.train_on_batch(X, y_discriminator))\n",
        "\n",
        "        # Let's train the generator\n",
        "        noise_input = np.random.rand(batch_size, 100)\n",
        "        y_generator = [1]*batch_size\n",
        "        \n",
        "        # ---------------------\n",
        "        #  Train Generator\n",
        "        # ---------------------\n",
        "        \n",
        "        self.dcgan_discriminator.trainable = False\n",
        "        dc_generator_loss.append(self.dcgan.train_on_batch(noise_input, y_generator))\n",
        "\n",
        "      t3 = time.time()\n",
        "      print(\"Epoch training time: %0.2fs\" % (t3 - t2))\n",
        "  #     print(\"Discriminator metrics names: {}\".format(discriminator_model.metrics_names))\n",
        "      print(\"Generator loss: {}, Discriminator loss: {}\".format(1 - dc_generator_loss[-1], 1 - dc_discriminator_loss[-1]))\n",
        "      # add end of epoch losses\n",
        "      self.dcgan_discriminator_end_of_epoch_loss.append(1 - dc_discriminator_loss[-1])\n",
        "      self.dcgan_generator_end_of_epoch_loss.append(1 - dc_generator_loss[-1])\n",
        "\n",
        "  #     if generate_new_images and epoch % 10 == 0 :\n",
        "  #       generate_images(dc_generator, is_wgan=False)\n",
        "\n",
        "    t1 = time.time()\n",
        "    print(\"Total training time: %0.2fs\" % (t1 - t0))\n",
        "\n",
        "    # summarize the results in the df    \n",
        "    dcgan_results_df = pd.DataFrame({\"generator_end_of_epoch_loss\": self.dcgan_generator_end_of_epoch_loss, \n",
        "                                     \"discriminator_end_of_epoch_loss\":self.dcgan_discriminator_end_of_epoch_loss})\n",
        "    if save_results:\n",
        "      # save wights locally \n",
        "      self.dcgan_discriminator.save_weights(dcgan_discriminator_model_wigths_file_name)\n",
        "      self.dcgan_generator.save_weights(dcgan_generator_model_wigths_file_name)\n",
        "\n",
        "      set_drive_api()\n",
        "      # upload to drive\n",
        "      save(dcgan_discriminator_model_wigths_file_name)\n",
        "      save(dcgan_generator_model_wigths_file_name)\n",
        "\n",
        "      # write results locally\n",
        "      model_results = \"dcgan_model_results.txt\"\n",
        "      dcgan_results_df.to_csv(model_results, header=None, index=None, sep=' ')\n",
        "      # upload to drive\n",
        "      save(model_results)\n",
        "\n",
        "    if plot_loss:\n",
        "      ax = dcgan_results_df.plot(title='Loss Per Epochs',lw=2, colormap='jet', marker='.', markersize=10)\n",
        "      ax.set_xlabel(\"Epochs\")\n",
        "      ax.set_ylabel(\"Loss\")\n"
      ],
      "execution_count": 0,
      "outputs": []
    },
    {
      "metadata": {
        "id": "1WaO0BVRlotk",
        "colab_type": "text"
      },
      "cell_type": "markdown",
      "source": [
        "### Train DCGAN"
      ]
    },
    {
      "metadata": {
        "id": "rVT82pQ-2bBt",
        "colab_type": "code",
        "outputId": "a34660aa-c9ba-4249-e14d-6d80620b27a5",
        "colab": {
          "base_uri": "https://localhost:8080/",
          "height": 416
        }
      },
      "cell_type": "code",
      "source": [
        "# set up wgan instance\n",
        "dcgan = DCGAN()\n",
        "# train it\n",
        "dcgan.train_DCGAN(5, generate_new_images=False, load_exsiting_model=True, plot_loss=False)"
      ],
      "execution_count": 0,
      "outputs": [
        {
          "output_type": "stream",
          "text": [
            "title: dcgan_discriminator_model_wigths.h5, id: 1G3qmrH0XVRRoVeRf9ltVNz8Zlaz3aaxh\n",
            "downloading to /root/data/dcgan_discriminator_model_wigths.h5\n",
            "title: dcgan_generator_model_wigths.h5, id: 106Ame5j1uAuvo_ZMTx3y6rulCWdMt7R9\n",
            "downloading to /root/data/dcgan_generator_model_wigths.h5\n",
            "Epoch:  0\n",
            "Epoch training time: 54.34s\n",
            "Generator loss: -4.210963249206543, Discriminator loss: 0.8747262060642242\n",
            "Epoch:  1\n",
            "Epoch training time: 41.60s\n",
            "Generator loss: -4.053496360778809, Discriminator loss: 0.9240037649869919\n",
            "Epoch:  2\n",
            "Epoch training time: 41.41s\n",
            "Generator loss: -7.973957061767578, Discriminator loss: 0.8359526097774506\n",
            "Epoch:  3\n",
            "Epoch training time: 41.51s\n",
            "Generator loss: -2.5970640182495117, Discriminator loss: 0.8567473441362381\n",
            "Epoch:  4\n",
            "Epoch training time: 41.38s\n",
            "Generator loss: -7.028169631958008, Discriminator loss: 0.9402674846351147\n",
            "Total training time: 220.25s\n",
            "Uploaded file with ID 1xRRzuh6zmjG6CUq2FmPQW7oxjMAeEzjU\n",
            "Uploaded file with ID 1XaAcOJWx4DjWjrCrAT_rK_Fk3J8ILrlP\n",
            "Uploaded file with ID 1oYB86fioTaEGliC0EV4mKcZHxXFz-PNn\n"
          ],
          "name": "stdout"
        }
      ]
    },
    {
      "metadata": {
        "id": "7MWnXQbAfrNt",
        "colab_type": "text"
      },
      "cell_type": "markdown",
      "source": [
        "### Genarate New Images From Exsicting DCGAN Model "
      ]
    },
    {
      "metadata": {
        "id": "Q760-F4I_UY9",
        "colab_type": "code",
        "outputId": "8027cbd9-958a-4a0c-979a-c89a94291cce",
        "colab": {
          "base_uri": "https://localhost:8080/",
          "height": 289
        }
      },
      "cell_type": "code",
      "source": [
        "number_of_images = 10\n",
        "file_name = 'dcgan_generator_model_wigths.h5'\n",
        "is_from_pc = False\n",
        "# create untrained dcgan generator \n",
        "empty_dcgan_generator = build_dc_generator()\n",
        "# load wigths on the generator\n",
        "new_dcgan_generator = load_model_wigths_by_file_name(empty_dcgan_generator, file_name, from_local_pc=is_from_pc)\n",
        "# generate the number of images needed\n",
        "generate_images(new_dcgan_generator, number_of_images, is_wgan=False)"
      ],
      "execution_count": 0,
      "outputs": [
        {
          "output_type": "stream",
          "text": [
            "title: dcgan_generator_model_wigths.h5, id: 1XaAcOJWx4DjWjrCrAT_rK_Fk3J8ILrlP\n",
            "downloading to /root/data/dcgan_generator_model_wigths.h5\n",
            "Uploaded file with ID 1tn5KjmW8Vm9ml2ez_uYK11aI_GpqIMk1\n",
            "Uploaded file with ID 19a4-KquzbUbOpkipgeAxKNAoYeoqPJa0\n",
            "Uploaded file with ID 1cqcfuG81bYLOW0ubwP1tX3gv4l1GhCIA\n",
            "Uploaded file with ID 1jSeiOumqUewQ3b3P9fK3FMWVYwd-QAoR\n",
            "Uploaded file with ID 1ns4dxnZBinjDJ_s_O34VAIvQZIetk5MY\n",
            "Uploaded file with ID 1mKgi7zBATt26d-9EgX5gK8vRR0uKdGdm\n",
            "Uploaded file with ID 1wUzmfoNG-L2L2HmhI2stc47rElI94_aw\n",
            "Uploaded file with ID 1MC3M2MCVYze6We9xwUoxHhU08sEQQOa9\n",
            "Uploaded file with ID 1i2PObUwddrJxsiPyF5eaZmoGPu5Ikad-\n",
            "Uploaded file with ID 1qleJZKy_EV_M-R5gLU_xSAJ2ZDH3NY97\n"
          ],
          "name": "stdout"
        },
        {
          "output_type": "display_data",
          "data": {
            "image/png": "[encoded data removed]",
            "text/plain": [
              "<matplotlib.figure.Figure at 0x7f45084c8d68>"
            ]
          },
          "metadata": {
            "tags": []
          }
        }
      ]
    }
  ]
}